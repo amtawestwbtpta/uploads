{
 "cells": [
  {
   "cell_type": "code",
   "execution_count": 1,
   "id": "34edac0b-053e-44fd-9561-7ad13afdc1b7",
   "metadata": {},
   "outputs": [
    {
     "name": "stdin",
     "output_type": "stream",
     "text": [
      "Enter Your Message:  generates a random number out of 26 and then converts into its corresponding letter. This could defiantly be improved\n"
     ]
    }
   ],
   "source": [
    "import random\n",
    "import string\n",
    "r=string.ascii_letters\n",
    "r1=\"\"\n",
    "r2=\"\"\n",
    "encoded_text=\"\"\n",
    "decoded_text=\"\"\n",
    "st = input(\"Enter Your Message: \")\n",
    "for i in range (0,3):\n",
    "    w1=random.choice(r)\n",
    "    w2=random.choice(r)\n",
    "    r1=r1+w1\n",
    "    r2=r2+w2"
   ]
  },
  {
   "cell_type": "code",
   "execution_count": 2,
   "id": "337ecfd9-6ee9-4c9b-aef8-1ce40240bcb2",
   "metadata": {},
   "outputs": [
    {
     "name": "stdout",
     "output_type": "stream",
     "text": [
      "encoded_text: OXxeneratesgkTG a OXxandomrkTG OXxumbernkTG OXxutokTG fo 62 OXxndakTG OXxhentkTG OXxonvertsckTG OXxntoikTG OXxtsikTG OXxorrespondingckTG OXxetter.lkTG OXxhisTkTG OXxouldckTG OXxefiantlydkTG eb OXxmprovedikTG\n"
     ]
    }
   ],
   "source": [
    "# Encoding\n",
    "words = st.split(\" \")\n",
    "nwords = []\n",
    "for word in words:\n",
    "    if len(word) >= 3:\n",
    "        stnew = r1 + word[1:] + word[0] + r2\n",
    "        nwords.append(stnew)\n",
    "    else:\n",
    "        nwords.append(word[::-1])\n",
    "encoded_text=\" \".join(nwords)\n",
    "print(f\"encoded_text: {encoded_text}\")"
   ]
  },
  {
   "cell_type": "code",
   "execution_count": 3,
   "id": "daddad60-0fd0-4637-9fb1-fde58688fb34",
   "metadata": {},
   "outputs": [
    {
     "name": "stdout",
     "output_type": "stream",
     "text": [
      "decoded_text: generates a random number out of 26 and then converts into its corresponding letter. This could defiantly be improved\n"
     ]
    }
   ],
   "source": [
    "# Decoding\n",
    "words = encoded_text.split(\" \")\n",
    "nwords = []\n",
    "for word in words:\n",
    "    if len(word) >= 3:\n",
    "        stnew = word[3:-3]\n",
    "        stnew = stnew[-1] + stnew[:-1]\n",
    "        nwords.append(stnew)\n",
    "    else:\n",
    "        nwords.append(word[::-1])\n",
    "decoded_text=\" \".join(nwords)\n",
    "print(f\"decoded_text: {decoded_text}\")"
   ]
  }
 ],
 "metadata": {
  "kernelspec": {
   "display_name": "Python 3 (ipykernel)",
   "language": "python",
   "name": "python3"
  },
  "language_info": {
   "codemirror_mode": {
    "name": "ipython",
    "version": 3
   },
   "file_extension": ".py",
   "mimetype": "text/x-python",
   "name": "python",
   "nbconvert_exporter": "python",
   "pygments_lexer": "ipython3",
   "version": "3.13.5"
  }
 },
 "nbformat": 4,
 "nbformat_minor": 5
}
