{
 "cells": [
  {
   "cell_type": "code",
   "execution_count": 1,
   "id": "d197a9cf-5cc2-405a-a90d-4628a8fbc06d",
   "metadata": {},
   "outputs": [
    {
     "name": "stdin",
     "output_type": "stream",
     "text": [
      "Enter your secret message:  flavourgasted\n"
     ]
    }
   ],
   "source": [
    "name = input(\"Enter your secret message: \")\n",
    "encoded_text = \"\"\n",
    "decoded_text = \"\"\n",
    "first_random_letters = \"gzo\"\n",
    "last_random_letters = \"pcq\"\n",
    "str1 = \"\"\n",
    "str2 = \"\""
   ]
  },
  {
   "cell_type": "code",
   "execution_count": 2,
   "id": "c25a4c65-c0f9-4c34-b69f-319314e08b82",
   "metadata": {},
   "outputs": [
    {
     "name": "stdout",
     "output_type": "stream",
     "text": [
      "encoded_text: gzolavourgastedfpcq\n"
     ]
    }
   ],
   "source": [
    "# Encoding\n",
    "if len(name) <= 3:\n",
    "    encoded_text = name[::-1]\n",
    "else:\n",
    "    for i, l in enumerate(name):\n",
    "        if i == 0:\n",
    "            str2 = l + last_random_letters\n",
    "        else:\n",
    "            str1 = str1 + l\n",
    "    encoded_text = first_random_letters + str1 + str2\n",
    "print(f\"encoded_text: {encoded_text}\")"
   ]
  },
  {
   "cell_type": "code",
   "execution_count": 3,
   "id": "180b4d45-ae5f-4e62-8060-476adde275e6",
   "metadata": {},
   "outputs": [
    {
     "name": "stdout",
     "output_type": "stream",
     "text": [
      "decoded_text: flavourgasted\n"
     ]
    }
   ],
   "source": [
    "# Decoding\n",
    "if len(encoded_text) <= 3:\n",
    "    decoded_text = encoded_text[::-1]\n",
    "else:\n",
    "    first_text = \"\"\n",
    "    text = \"\"\n",
    "    for i, l in enumerate(encoded_text):\n",
    "        if i <= 2:\n",
    "            continue\n",
    "        elif len(encoded_text) - i == 4:\n",
    "            first_text = l\n",
    "        elif len(encoded_text) - i <= 3:\n",
    "            continue\n",
    "        else:\n",
    "            text = text + l\n",
    "    decoded_text = first_text + text\n",
    "print(f\"decoded_text: {decoded_text}\")"
   ]
  }
 ],
 "metadata": {
  "kernelspec": {
   "display_name": "Python 3 (ipykernel)",
   "language": "python",
   "name": "python3"
  },
  "language_info": {
   "codemirror_mode": {
    "name": "ipython",
    "version": 3
   },
   "file_extension": ".py",
   "mimetype": "text/x-python",
   "name": "python",
   "nbconvert_exporter": "python",
   "pygments_lexer": "ipython3",
   "version": "3.13.5"
  }
 },
 "nbformat": 4,
 "nbformat_minor": 5
}
