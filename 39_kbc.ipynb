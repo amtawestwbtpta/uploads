{
 "cells": [
  {
   "cell_type": "code",
   "execution_count": 1,
   "id": "397980bd-b092-42d7-b9a7-d31e34aa2dfc",
   "metadata": {},
   "outputs": [],
   "source": [
    "questions = [\n",
    "    [\"What is the output of 2 ** 3 in Python?\", \"5\", \"6\", \"8\", \"9\", 2],\n",
    "    [\"Which of the following is a Python data type?\", \"integer\", \"list\", \"tuple\", \"All of the above\", 4],\n",
    "    [\"What keyword is used to define a function in Python?\", \"func\", \"def\", \"function\", \"define\", 2],\n",
    "    [\"Which of these is the correct way to start a for loop in Python?\", \n",
    "     \"for(i=0; i<5; i++)\", \"for i in range(5):\", \"foreach i in range(5)\", \"loop i from 1 to 5\", 2],\n",
    "    [\"What is the output of print(type([]))?\", \"dict\", \"list\", \"tuple\", \"set\", 2],\n",
    "    [\"Which of the following is used to handle exceptions in Python?\", \"try/except\", \"do/while\", \"catch/throw\", \"if/else\", 1],\n",
    "    [\"Which operator is used for floor division in Python?\", \"/\", \"//\", \"%\", \"**\", 2],\n",
    "    [\"What will be the result of bool('False')?\", \"True\", \"False\", \"None\", \"Error\", 1],\n",
    "    [\"Which function is used to get the length of a list?\", \"count()\", \"size()\", \"len()\", \"length()\", 3],\n",
    "    [\"What is the correct file extension for Python files?\", \".pt\", \".pyt\", \".py\", \".python\", 3],\n",
    "    [\"Which of these collections does not allow duplicate elements?\", \"list\", \"tuple\", \"set\", \"dict\", 3],\n",
    "    [\"How do you insert comments in Python code?\", \"// comment\", \"# comment\", \"/* comment */\", \"<!-- comment -->\", 2],\n",
    "    [\"Which of these is a mutable data type in Python?\", \"tuple\", \"string\", \"list\", \"frozenset\", 3],\n",
    "    [\"Which keyword is used to exit a loop in Python?\", \"exit\", \"stop\", \"break\", \"quit\", 3],\n",
    "    [\"What is the output of 'hello'.upper()?\", \"HELLO\", \"hello\", \"Hello\", \"error\", 1],\n",
    "    [\"What is the default return value of a Python function if no return is specified?\", \"None\", \"0\", \"False\", \"Error\", 1],\n",
    "    [\"Which module in Python is used to generate random numbers?\", \"math\", \"statistics\", \"random\", \"os\", 3],\n",
    "    #[\"Which operator is used to check equality in Python?\", \"=\", \"==\", \"===\", \"!=\", 2],\n",
    "    #[\"What is the maximum possible length of an identifier in Python?\", \"16\", \"32\", \"128\", \"No limit\", 4],\n",
    "    #[\"Which keyword is used to create a class in Python?\", \"define\", \"function\", \"class\", \"struct\", 3],\n",
    "    #[\"Which function is used to display output in Python?\", \"display()\", \"output()\", \"print()\", \"write()\", 3],\n",
    "    #[\"What does the 'pass' statement do in Python?\", \"Ends the program\", \"Skips the loop\", \"Does nothing\", \"Throws an error\", 3]\n",
    "]"
   ]
  },
  {
   "cell_type": "code",
   "execution_count": 2,
   "id": "0a29b0db-feb0-436a-9854-6f7522b186f1",
   "metadata": {},
   "outputs": [],
   "source": [
    "levels = [1000, 2000, 3000, 5000, 10000, 20000, 40000, 80000, 160000, 320000,640000,1250000,2500000,5000000,10000000,50000000,70000000]"
   ]
  },
  {
   "cell_type": "code",
   "execution_count": 3,
   "id": "ccd3ee2b-818e-4fd8-a9bc-8e7954b8dad1",
   "metadata": {},
   "outputs": [],
   "source": [
    "money = 0"
   ]
  },
  {
   "cell_type": "code",
   "execution_count": 5,
   "id": "62cc19eb-35f5-46d2-8eb4-52b50b45de10",
   "metadata": {},
   "outputs": [
    {
     "name": "stdout",
     "output_type": "stream",
     "text": [
      "Question for Rs. 1000\n",
      "What is the output of 2 ** 3 in Python?\n",
      "1. 5  2. 6\n",
      "3. 8  4. 9\n"
     ]
    },
    {
     "name": "stdin",
     "output_type": "stream",
     "text": [
      "Enter your answer (1-4 or quit to quit game)  2\n"
     ]
    },
    {
     "name": "stdout",
     "output_type": "stream",
     "text": [
      "Congratulation, Right answer\n",
      "You have won Rs. 1000\n",
      "Your take home money is 10000000\n",
      "Question for Rs. 2000\n",
      "Which of the following is a Python data type?\n",
      "1. integer  2. list\n",
      "3. tuple  4. All of the above\n"
     ]
    },
    {
     "name": "stdin",
     "output_type": "stream",
     "text": [
      "Enter your answer (1-4 or quit to quit game)  2\n"
     ]
    },
    {
     "name": "stdout",
     "output_type": "stream",
     "text": [
      "Wrong answer\n",
      "Your take home money is 10000000\n"
     ]
    }
   ],
   "source": [
    "for i in range(0, len(questions)):\n",
    "    question = questions[i]\n",
    "    print(f\"Question for Rs. {levels[i]}\")\n",
    "    print(f\"{question[0]}\")\n",
    "    print(f\"1. {question[1]}  2. {question[2]}\")\n",
    "    print(f\"3. {question[3]}  4. {question[4]}\")\n",
    "    try:\n",
    "        reply = input(\"Enter your answer (1-4 or quit to quit game) \")\n",
    "        if reply == \"quit\":\n",
    "            print(f\"Thanks for playing\")\n",
    "            break\n",
    "        elif int(reply) == question[-1]:\n",
    "            print(\"Congratulation, Right answer\")\n",
    "            print(f\"You have won Rs. {levels[i]}\")\n",
    "            if i == 4:\n",
    "                money = 10000\n",
    "            elif i == 9:\n",
    "                money = 320000\n",
    "            elif i == 14:\n",
    "                money = 10000000\n",
    "            elif i == 15:\n",
    "                money = 50000000\n",
    "            elif i == 16:\n",
    "                money = 70000000\n",
    "        else:\n",
    "            print(\"Wrong answer\")\n",
    "            break\n",
    "    except:\n",
    "        print(\"Please enter a valid number\")\n",
    "    finally:\n",
    "        print(f\"Your take home money is {money}\")"
   ]
  }
 ],
 "metadata": {
  "kernelspec": {
   "display_name": "Python 3 (ipykernel)",
   "language": "python",
   "name": "python3"
  },
  "language_info": {
   "codemirror_mode": {
    "name": "ipython",
    "version": 3
   },
   "file_extension": ".py",
   "mimetype": "text/x-python",
   "name": "python",
   "nbconvert_exporter": "python",
   "pygments_lexer": "ipython3",
   "version": "3.13.5"
  }
 },
 "nbformat": 4,
 "nbformat_minor": 5
}
